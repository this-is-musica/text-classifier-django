{
 "cells": [
  {
   "cell_type": "code",
   "execution_count": 28,
   "metadata": {
    "collapsed": false
   },
   "outputs": [],
   "source": [
    "import analysis\n",
    "import sklearn as skl\n",
    "import pandas as pd\n",
    "import os\n",
    "from sklearn import pipeline\n",
    "from sklearn.naive_bayes import MultinomialNB\n",
    "from sklearn import neural_network"
   ]
  },
  {
   "cell_type": "code",
   "execution_count": 2,
   "metadata": {
    "collapsed": false
   },
   "outputs": [],
   "source": [
    "ided_songs = analysis.read_lyrics(\"../../data/music\")"
   ]
  },
  {
   "cell_type": "code",
   "execution_count": 3,
   "metadata": {
    "collapsed": false
   },
   "outputs": [],
   "source": [
    "lyrics = [song['lyrics'] for song in ided_songs]\n",
    "genres = [song['genre'] for song in ided_songs]"
   ]
  },
  {
   "cell_type": "code",
   "execution_count": 4,
   "metadata": {
    "collapsed": false
   },
   "outputs": [],
   "source": [
    "X_train, X_test, y_train, y_test = skl.cross_validation.train_test_split(\n",
    "    lyrics, genres)"
   ]
  },
  {
   "cell_type": "code",
   "execution_count": 22,
   "metadata": {
    "collapsed": false
   },
   "outputs": [
    {
     "name": "stdout",
     "output_type": "stream",
     "text": [
      "0.996644295302\n",
      "0.276381909548\n"
     ]
    }
   ],
   "source": [
    "lyric_classifier = pipeline.Pipeline([('tfidf',skl.feature_extraction.text.TfidfVectorizer(max_df=.95, norm='l2')),\n",
    "                                  ('forest',skl.ensemble.RandomForestClassifier())])\n",
    "lyric_classifier.set_params(forest__n_estimators=500, forest__oob_score = True)\n",
    "lyric_classifier.fit(X_train, y_train)\n",
    "print(lyric_classifier.score(X_train, y_train))\n",
    "print(lyric_classifier.score(X_test, y_test))"
   ]
  },
  {
   "cell_type": "code",
   "execution_count": 23,
   "metadata": {
    "collapsed": false
   },
   "outputs": [
    {
     "name": "stdout",
     "output_type": "stream",
     "text": [
      "0.139261744966\n",
      "0.0854271356784\n"
     ]
    }
   ],
   "source": [
    "lyric_classifier2 = pipeline.Pipeline([('tfidf',skl.feature_extraction.text.TfidfVectorizer(max_df=.95, norm='l2')),\n",
    "                                  ('support_vector',skl.svm.SVC())])\n",
    "lyric_classifier2.fit(X_train, y_train)\n",
    "print(lyric_classifier2.score(X_train, y_train))\n",
    "print(lyric_classifier2.score(X_test, y_test))"
   ]
  },
  {
   "cell_type": "code",
   "execution_count": 24,
   "metadata": {
    "collapsed": false
   },
   "outputs": [
    {
     "name": "stdout",
     "output_type": "stream",
     "text": [
      "0.854026845638\n",
      "0.256281407035\n"
     ]
    }
   ],
   "source": [
    "lyric_classifier3 = pipeline.Pipeline([('tfidf', skl.feature_extraction.text.TfidfVectorizer(max_df=.95, norm='l2')),\n",
    "                                  ('bayes', MultinomialNB())])\n",
    "lyric_classifier3.fit(X_train, y_train)\n",
    "print(lyric_classifier3.score(X_train, y_train))\n",
    "print(lyric_classifier3.score(X_test, y_test))"
   ]
  },
  {
   "cell_type": "code",
   "execution_count": 31,
   "metadata": {
    "collapsed": false
   },
   "outputs": [
    {
     "name": "stdout",
     "output_type": "stream",
     "text": [
      "0.854026845638\n",
      "0.256281407035\n"
     ]
    }
   ],
   "source": [
    "lyric_classifier3 = pipeline.Pipeline([('tfidf', skl.feature_extraction.text.TfidfVectorizer(max_df=.95, norm='l2')),\n",
    "                                  ('bayes', MultinomialNB())])\n",
    "lyric_classifier3.fit(X_train, y_train)\n",
    "print(lyric_classifier3.score(X_train, y_train))\n",
    "print(lyric_classifier3.score(X_test, y_test))"
   ]
  },
  {
   "cell_type": "code",
   "execution_count": 30,
   "metadata": {
    "collapsed": false
   },
   "outputs": [
    {
     "data": {
      "text/plain": [
       "['BernoulliRBM',\n",
       " '__all__',\n",
       " '__builtins__',\n",
       " '__cached__',\n",
       " '__doc__',\n",
       " '__file__',\n",
       " '__loader__',\n",
       " '__name__',\n",
       " '__package__',\n",
       " '__path__',\n",
       " '__spec__',\n",
       " 'rbm']"
      ]
     },
     "execution_count": 30,
     "metadata": {},
     "output_type": "execute_result"
    }
   ],
   "source": []
  },
  {
   "cell_type": "code",
   "execution_count": null,
   "metadata": {
    "collapsed": true
   },
   "outputs": [],
   "source": []
  }
 ],
 "metadata": {
  "kernelspec": {
   "display_name": "Python 3",
   "language": "python",
   "name": "python3"
  },
  "language_info": {
   "codemirror_mode": {
    "name": "ipython",
    "version": 3
   },
   "file_extension": ".py",
   "mimetype": "text/x-python",
   "name": "python",
   "nbconvert_exporter": "python",
   "pygments_lexer": "ipython3",
   "version": "3.5.1"
  }
 },
 "nbformat": 4,
 "nbformat_minor": 0
}
