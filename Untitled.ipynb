{
 "cells": [
  {
   "cell_type": "code",
   "execution_count": 1,
   "metadata": {
    "collapsed": false
   },
   "outputs": [],
   "source": [
    "import requests\n",
    "import json\n",
    "from pprint import pprint"
   ]
  },
  {
   "cell_type": "code",
   "execution_count": 2,
   "metadata": {
    "collapsed": true
   },
   "outputs": [],
   "source": [
    "genre = ['metal','pop','R&B','rock']"
   ]
  },
  {
   "cell_type": "code",
   "execution_count": 3,
   "metadata": {
    "collapsed": false
   },
   "outputs": [],
   "source": [
    "with open(\"data/music/rock/1-20.json\") as lyrics_file:\n",
    "    lyrics = json.load(lyrics_file)"
   ]
  },
  {
   "cell_type": "code",
   "execution_count": null,
   "metadata": {
    "collapsed": false
   },
   "outputs": [],
   "source": []
  },
  {
   "cell_type": "code",
   "execution_count": 4,
   "metadata": {
    "collapsed": false
   },
   "outputs": [
    {
     "data": {
      "text/plain": [
       "\"When your legs don't work like they used to before\\nAnd I can't sweep you off of your feet\\nWill your mouth still remember the taste of my love\\nWill your eyes still smile from your cheeks\""
      ]
     },
     "execution_count": 4,
     "metadata": {},
     "output_type": "execute_result"
    }
   ],
   "source": [
    "lyrics['results'][0]['collection1'][0]['SongLyric']"
   ]
  },
  {
   "cell_type": "code",
   "execution_count": null,
   "metadata": {
    "collapsed": false
   },
   "outputs": [],
   "source": []
  },
  {
   "cell_type": "code",
   "execution_count": 7,
   "metadata": {
    "collapsed": false
   },
   "outputs": [
    {
     "data": {
      "text/plain": [
       "[{'SongLyric': \"The sun will come out tomorrow\\nBet your bottom dollar that tomorrow\\nThere'll be sun\"},\n",
       " {'SongLyric': \"Just thinkin' about tomorrow\\nClears away the cobwebs and the sorrow\\n'til there's none\"},\n",
       " {'SongLyric': \"When I'm stuck with a day that's grey and lonely\\nI just stick up my chin and grin and say, oh\"},\n",
       " {'SongLyric': \"The sun will come out tomorrow\\nSo you gotta hang on\\n'til tomorrow, come what may!\\nTomorrow, tomorrow, I love ya, tomorrow\\nYou're only a day away!\"},\n",
       " {'SongLyric': \"When I'm stuck with a day that's grey and lonely\\nI just stick up my chin and grin and say oh\"},\n",
       " {'SongLyric': \"The sun will come out tomorrow\\nSo you got to hang on 'til tomorrow, come what may!\\nTomorrow, tomorrow, I love you tomorrow\\nYou're only a day away\"},\n",
       " {'SongLyric': \"Tomorrow, tomorrow I love ya tomorrow\\nYou're only a day away ...\"}]"
      ]
     },
     "execution_count": 7,
     "metadata": {},
     "output_type": "execute_result"
    }
   ],
   "source": []
  },
  {
   "cell_type": "code",
   "execution_count": 5,
   "metadata": {
    "collapsed": false
   },
   "outputs": [],
   "source": [
    "for i, song in enumerate(lyrics):\n",
    "    songs = lyrics['results'][i]['collection1']"
   ]
  },
  {
   "cell_type": "code",
   "execution_count": 6,
   "metadata": {
    "collapsed": false
   },
   "outputs": [
    {
     "name": "stdout",
     "output_type": "stream",
     "text": [
      "The sun will come out tomorrow\n",
      "Bet your bottom dollar that tomorrow\n",
      "There'll be sun\n",
      "Just thinkin' about tomorrow\n",
      "Clears away the cobwebs and the sorrow\n",
      "'til there's none\n",
      "When I'm stuck with a day that's grey and lonely\n",
      "I just stick up my chin and grin and say, oh\n",
      "The sun will come out tomorrow\n",
      "So you gotta hang on\n",
      "'til tomorrow, come what may!\n",
      "Tomorrow, tomorrow, I love ya, tomorrow\n",
      "You're only a day away!\n",
      "When I'm stuck with a day that's grey and lonely\n",
      "I just stick up my chin and grin and say oh\n",
      "The sun will come out tomorrow\n",
      "So you got to hang on 'til tomorrow, come what may!\n",
      "Tomorrow, tomorrow, I love you tomorrow\n",
      "You're only a day away\n",
      "Tomorrow, tomorrow I love ya tomorrow\n",
      "You're only a day away ...\n"
     ]
    }
   ],
   "source": [
    "for i, word in enumerate(songs):\n",
    "    print(songs[i]['SongLyric'])"
   ]
  },
  {
   "cell_type": "code",
   "execution_count": null,
   "metadata": {
    "collapsed": true
   },
   "outputs": [],
   "source": []
  }
 ],
 "metadata": {
  "kernelspec": {
   "display_name": "Python 3",
   "language": "python",
   "name": "python3"
  },
  "language_info": {
   "codemirror_mode": {
    "name": "ipython",
    "version": 3
   },
   "file_extension": ".py",
   "mimetype": "text/x-python",
   "name": "python",
   "nbconvert_exporter": "python",
   "pygments_lexer": "ipython3",
   "version": "3.5.1"
  }
 },
 "nbformat": 4,
 "nbformat_minor": 0
}
